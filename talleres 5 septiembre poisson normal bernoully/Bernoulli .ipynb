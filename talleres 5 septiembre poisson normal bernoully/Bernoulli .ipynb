{
 "cells": [
  {
   "cell_type": "code",
   "execution_count": 1,
   "metadata": {
    "collapsed": false
   },
   "outputs": [
    {
     "name": "stdout",
     "output_type": "stream",
     "text": [
      "1\n"
     ]
    },
    {
     "data": {
      "image/png": "[encoded data removed]",
      "text/plain": [
       "<matplotlib.figure.Figure at 0x5efec88>"
      ]
     },
     "metadata": {},
     "output_type": "display_data"
    }
   ],
   "source": [
    "%matplotlib inline \n",
    "import matplotlib.pyplot as plt\n",
    "import matplotlib.mlab as mlab\n",
    "import math\n",
    "import numpy as np\n",
    "\n",
    "def  cong(x0):\n",
    "    a = 1664525\n",
    "    b = 1013904223\n",
    "    m = 2**32\n",
    "    xi = x0\n",
    "    ui =0\n",
    "    xi = (a*xi + b)%(m)\n",
    "    ui = float(xi)/float(m)\n",
    "\n",
    "    return xi,ui\n",
    "\n",
    "def acumulada(dis):\n",
    "    acum = []\n",
    "    for x in range(len(dis)):\n",
    "        if(x == 0):\n",
    "            acum.append(dis[x])\n",
    "        else:\n",
    "            suma = acum[x-1]+dis[x]\n",
    "            acum.append(suma)\n",
    "        \n",
    "    return acum\n",
    "\n",
    "def inversion(acum,semilla,itera):\n",
    "    inver = []\n",
    "    xi = semilla\n",
    "    for i in range(itera):\n",
    "        xi,random = cong(xi)\n",
    "        for x in range(len(acum)):\n",
    "            if(random <=acum[x]):\n",
    "                inver.append(x+1) \n",
    "                break\n",
    "    return inver\n",
    "        \n",
    "def  generarBernoulli():\n",
    "    Bernoulli = [0,1]\n",
    "   \n",
    "    return Bernoulli\n",
    "\n",
    "\n",
    "\n",
    "fxUniforme = generarBernoulli()\n",
    "print(np.sum(fxUniforme))\n",
    "acum = acumulada(fxUniforme)\n",
    "\n",
    "semilla = 5\n",
    "metodo_inversion = inversion(acum,semilla,10000)\n",
    "\n",
    "num_bins = 50\n",
    "n, bins, patches = plt.hist(metodo_inversion, num_bins, normed=1, facecolor='green', alpha=0.5)\n",
    "sigma = 1  \n",
    "\n",
    "\n",
    "plt.xlabel('numero aleatorios')\n",
    "plt.ylabel('Probabilidad')\n",
    "plt.title(r'Histograma parametros: $\\mu='+str(0 - 1)+'$')\n",
    "\n",
    "plt.subplots_adjust(left=0.15)\n",
    "plt.show()"
   ]
  },
  {
   "cell_type": "code",
   "execution_count": null,
   "metadata": {
    "collapsed": true
   },
   "outputs": [],
   "source": []
  }
 ],
 "metadata": {
  "kernelspec": {
   "display_name": "Python [Root]",
   "language": "python",
   "name": "Python [Root]"
  },
  "language_info": {
   "codemirror_mode": {
    "name": "ipython",
    "version": 2
   },
   "file_extension": ".py",
   "mimetype": "text/x-python",
   "name": "python",
   "nbconvert_exporter": "python",
   "pygments_lexer": "ipython2",
   "version": "2.7.12"
  }
 },
 "nbformat": 4,
 "nbformat_minor": 0
}
